{
 "cells": [
  {
   "cell_type": "code",
   "execution_count": 3,
   "metadata": {},
   "outputs": [
    {
     "name": "stdout",
     "output_type": "stream",
     "text": [
      "9\n",
      "pluton\n"
     ]
    }
   ],
   "source": [
    "planetas = [\"mercurio\", \"venus\", \"tierra\", \"marte\", \"jupiter\", \"saturno\", \"urano\", \"neptuno\"]\n",
    "\n",
    "planetas.append(\"pluton\")\n",
    "cantidad_planetas = len(planetas)\n",
    "print (cantidad_planetas)\n",
    "print (planetas[-1])"
   ]
  },
  {
   "cell_type": "code",
   "execution_count": 5,
   "metadata": {},
   "outputs": [
    {
     "ename": "ValueError",
     "evalue": "'pluton' is not in list",
     "output_type": "error",
     "traceback": [
      "\u001b[1;31m---------------------------------------------------------------------------\u001b[0m",
      "\u001b[1;31mValueError\u001b[0m                                Traceback (most recent call last)",
      "\u001b[1;32mc:\\Users\\Hecto\\Downloads\\Microsoft\\kata6.ipynb Cell 2'\u001b[0m in \u001b[0;36m<module>\u001b[1;34m\u001b[0m\n\u001b[0;32m      <a href='vscode-notebook-cell:/c%3A/Users/Hecto/Downloads/Microsoft/kata6.ipynb#ch0000001?line=0'>1</a>\u001b[0m planetas \u001b[39m=\u001b[39m [\u001b[39m\"\u001b[39m\u001b[39mmercurio\u001b[39m\u001b[39m\"\u001b[39m, \u001b[39m\"\u001b[39m\u001b[39mvenus\u001b[39m\u001b[39m\"\u001b[39m, \u001b[39m\"\u001b[39m\u001b[39mtierra\u001b[39m\u001b[39m\"\u001b[39m, \u001b[39m\"\u001b[39m\u001b[39mmarte\u001b[39m\u001b[39m\"\u001b[39m, \u001b[39m\"\u001b[39m\u001b[39mjupiter\u001b[39m\u001b[39m\"\u001b[39m, \u001b[39m\"\u001b[39m\u001b[39msaturno\u001b[39m\u001b[39m\"\u001b[39m, \u001b[39m\"\u001b[39m\u001b[39murano\u001b[39m\u001b[39m\"\u001b[39m, \u001b[39m\"\u001b[39m\u001b[39mneptuno\u001b[39m\u001b[39m\"\u001b[39m]\n\u001b[0;32m      <a href='vscode-notebook-cell:/c%3A/Users/Hecto/Downloads/Microsoft/kata6.ipynb#ch0000001?line=2'>3</a>\u001b[0m add_planeta \u001b[39m=\u001b[39m \u001b[39minput\u001b[39m(\u001b[39m\"\u001b[39m\u001b[39mAgrega un planeta, debe comenzar en mayus\u001b[39m\u001b[39m\"\u001b[39m)\n\u001b[1;32m----> <a href='vscode-notebook-cell:/c%3A/Users/Hecto/Downloads/Microsoft/kata6.ipynb#ch0000001?line=4'>5</a>\u001b[0m planeta_index \u001b[39m=\u001b[39m planetas\u001b[39m.\u001b[39;49mindex(add_planeta)\n\u001b[0;32m      <a href='vscode-notebook-cell:/c%3A/Users/Hecto/Downloads/Microsoft/kata6.ipynb#ch0000001?line=6'>7</a>\u001b[0m \u001b[39mprint\u001b[39m (add_planeta)\n",
      "\u001b[1;31mValueError\u001b[0m: 'pluton' is not in list"
     ]
    }
   ],
   "source": [
    "planetas = [\"mercurio\", \"venus\", \"tierra\", \"marte\", \"jupiter\", \"saturno\", \"urano\", \"neptuno\"]\n",
    "\n",
    "add_planeta = input(\"Agrega un planeta, debe comenzar en mayus\")\n",
    "\n",
    "planeta_index = planetas.index(add_planeta)\n",
    "\n",
    "print (add_planeta)"
   ]
  }
 ],
 "metadata": {
  "interpreter": {
   "hash": "31aee8fad9768ca830056522928fdc9ccb8959e970bcb4d92e88137aedc529fd"
  },
  "kernelspec": {
   "display_name": "Python 3.10.2 64-bit",
   "language": "python",
   "name": "python3"
  },
  "language_info": {
   "codemirror_mode": {
    "name": "ipython",
    "version": 3
   },
   "file_extension": ".py",
   "mimetype": "text/x-python",
   "name": "python",
   "nbconvert_exporter": "python",
   "pygments_lexer": "ipython3",
   "version": "3.10.2"
  },
  "orig_nbformat": 4
 },
 "nbformat": 4,
 "nbformat_minor": 2
}
