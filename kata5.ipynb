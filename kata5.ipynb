{
 "cells": [
  {
   "cell_type": "code",
   "execution_count": 6,
   "metadata": {},
   "outputs": [
    {
     "name": "stdout",
     "output_type": "stream",
     "text": [
      "628949.33 km\n",
      "390577.53393 millas\n"
     ]
    }
   ],
   "source": [
    "tierra = 149597.870\n",
    "jupiter = 778547.200\n",
    "\n",
    "print ((jupiter - tierra), \"km\")\n",
    "print ((jupiter - tierra)*.621, \"millas\")"
   ]
  },
  {
   "cell_type": "code",
   "execution_count": 10,
   "metadata": {},
   "outputs": [
    {
     "name": "stdout",
     "output_type": "stream",
     "text": [
      "4437200000 en km\n",
      "2755501200.0 en millas\n"
     ]
    }
   ],
   "source": [
    "neptuno = input(\"Distancia de neptuno\")\n",
    "mercurio = input(\"Distancia de mercurio\")\n",
    "\n",
    "neptuno = int(neptuno)\n",
    "mercurio = int(mercurio)\n",
    "\n",
    "distancia = neptuno - mercurio\n",
    "print (distancia, \"en km\")\n",
    "print ((distancia)*.621, \"en millas\")\n"
   ]
  }
 ],
 "metadata": {
  "interpreter": {
   "hash": "31aee8fad9768ca830056522928fdc9ccb8959e970bcb4d92e88137aedc529fd"
  },
  "kernelspec": {
   "display_name": "Python 3.10.2 64-bit",
   "language": "python",
   "name": "python3"
  },
  "language_info": {
   "codemirror_mode": {
    "name": "ipython",
    "version": 3
   },
   "file_extension": ".py",
   "mimetype": "text/x-python",
   "name": "python",
   "nbconvert_exporter": "python",
   "pygments_lexer": "ipython3",
   "version": "3.10.2"
  },
  "orig_nbformat": 4
 },
 "nbformat": 4,
 "nbformat_minor": 2
}
