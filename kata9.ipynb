{
 "cells": [
  {
   "cell_type": "code",
   "execution_count": 4,
   "metadata": {},
   "outputs": [
    {
     "name": "stdout",
     "output_type": "stream",
     "text": [
      "Fuel Report:\n",
      "    Total Average: 78.33333333333333%\n",
      "    Main tank: 80%\n",
      "    External tank: 70%\n",
      "    Hydrogen tank: 85% \n",
      "    \n"
     ]
    },
    {
     "data": {
      "text/plain": [
       "82.0"
      ]
     },
     "execution_count": 4,
     "metadata": {},
     "output_type": "execute_result"
    }
   ],
   "source": [
    "def report(t1, t2, t3):\n",
    "    promedio = (t1 + t2 + t3) / 3\n",
    "    return f\"\"\"Fuel Report:\n",
    "    Total Average: {promedio}%\n",
    "    Main tank: {t1}%\n",
    "    External tank: {t2}%\n",
    "    Hydrogen tank: {t3}% \n",
    "    \"\"\"\n",
    "\n",
    "print(report(80, 70, 85))\n",
    "\n",
    "\n",
    "def average(values):\n",
    "    total = sum(values)\n",
    "    number_of_items = len(values)\n",
    "    return total / number_of_items\n",
    "average([80, 85, 81]) "
   ]
  },
  {
   "cell_type": "code",
   "execution_count": 6,
   "metadata": {},
   "outputs": [
    {
     "name": "stdout",
     "output_type": "stream",
     "text": [
      "\n",
      "    Hacia Luna\n",
      "    Total viajado: 65 mins\n",
      "    Total gas restante: 500000 lt\n",
      "    \n"
     ]
    }
   ],
   "source": [
    "def reporte(tiempo_lanza, tiempo_vuelo, destino,t2,t1):\n",
    "    return f\"\"\"\n",
    "    Hacia {destino}\n",
    "    Total viajado: {tiempo_lanza + tiempo_vuelo} mins\n",
    "    Total gas restante: {t2 + t1} lt\n",
    "    \"\"\"\n",
    "\n",
    "print(reporte(14, 51, \"Luna\", 200000, 300000))"
   ]
  },
  {
   "cell_type": "code",
   "execution_count": 7,
   "metadata": {},
   "outputs": [
    {
     "ename": "TypeError",
     "evalue": "reporte() got an unexpected keyword argument 'main'",
     "output_type": "error",
     "traceback": [
      "\u001b[1;31m---------------------------------------------------------------------------\u001b[0m",
      "\u001b[1;31mTypeError\u001b[0m                                 Traceback (most recent call last)",
      "\u001b[1;32mc:\\Users\\Hecto\\Downloads\\Microsoft\\kata9.ipynb Cell 3'\u001b[0m in \u001b[0;36m<module>\u001b[1;34m\u001b[0m\n\u001b[0;32m      <a href='vscode-notebook-cell:/c%3A/Users/Hecto/Downloads/Microsoft/kata9.ipynb#ch0000002?line=7'>8</a>\u001b[0m         main_report \u001b[39m+\u001b[39m\u001b[39m=\u001b[39m \u001b[39mf\u001b[39m\u001b[39m\"\u001b[39m\u001b[39m{\u001b[39;00mtank_name\u001b[39m}\u001b[39;00m\u001b[39m tank --> \u001b[39m\u001b[39m{\u001b[39;00mgallons\u001b[39m}\u001b[39;00m\u001b[39m gallons left\u001b[39m\u001b[39m\\n\u001b[39;00m\u001b[39m\"\u001b[39m\n\u001b[0;32m      <a href='vscode-notebook-cell:/c%3A/Users/Hecto/Downloads/Microsoft/kata9.ipynb#ch0000002?line=8'>9</a>\u001b[0m     \u001b[39mreturn\u001b[39;00m main_report\n\u001b[1;32m---> <a href='vscode-notebook-cell:/c%3A/Users/Hecto/Downloads/Microsoft/kata9.ipynb#ch0000002?line=10'>11</a>\u001b[0m \u001b[39mprint\u001b[39m(reporte(\u001b[39m\"\u001b[39;49m\u001b[39mMoon\u001b[39;49m\u001b[39m\"\u001b[39;49m, \u001b[39m8\u001b[39;49m, \u001b[39m11\u001b[39;49m, \u001b[39m55\u001b[39;49m, main\u001b[39m=\u001b[39;49m\u001b[39m300000\u001b[39;49m, external\u001b[39m=\u001b[39;49m\u001b[39m200000\u001b[39;49m))\n",
      "\u001b[1;31mTypeError\u001b[0m: reporte() got an unexpected keyword argument 'main'"
     ]
    }
   ],
   "source": []
  }
 ],
 "metadata": {
  "interpreter": {
   "hash": "31aee8fad9768ca830056522928fdc9ccb8959e970bcb4d92e88137aedc529fd"
  },
  "kernelspec": {
   "display_name": "Python 3.10.2 64-bit",
   "language": "python",
   "name": "python3"
  },
  "language_info": {
   "codemirror_mode": {
    "name": "ipython",
    "version": 3
   },
   "file_extension": ".py",
   "mimetype": "text/x-python",
   "name": "python",
   "nbconvert_exporter": "python",
   "pygments_lexer": "ipython3",
   "version": "3.10.2"
  },
  "orig_nbformat": 4
 },
 "nbformat": 4,
 "nbformat_minor": 2
}
