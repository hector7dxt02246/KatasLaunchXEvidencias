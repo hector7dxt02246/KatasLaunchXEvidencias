{
 "cells": [
  {
   "cell_type": "code",
   "execution_count": 2,
   "metadata": {},
   "outputs": [
    {
     "name": "stdout",
     "output_type": "stream",
     "text": [
      "Advertencia, esta muy cerca\n"
     ]
    }
   ],
   "source": [
    "velocidad = 49\n",
    "limite = 25\n",
    "\n",
    "if velocidad > limite:\n",
    "    print(\"Advertencia, esta muy cerca\")"
   ]
  },
  {
   "cell_type": "code",
   "execution_count": 20,
   "metadata": {},
   "outputs": [
    {
     "name": "stdout",
     "output_type": "stream",
     "text": [
      "sin preocupacion\n"
     ]
    }
   ],
   "source": [
    "velocidad_asteriode = 19\n",
    "limite = 20\n",
    "\n",
    "if velocidad_asteriode > limite:\n",
    "        print (\"Advertencia\")\n",
    "elif velocidad_asteriode == limite:\n",
    "        print (\"Advertencia\")\n",
    "else:\n",
    "        print (\"sin preocupacion\")\n",
    "\n"
   ]
  },
  {
   "cell_type": "code",
   "execution_count": 22,
   "metadata": {},
   "outputs": [
    {
     "name": "stdout",
     "output_type": "stream",
     "text": [
      "Advertencia\n"
     ]
    }
   ],
   "source": [
    "velocidad_asteriode = 25\n",
    "limite = 25\n",
    "limite2 = 20\n",
    "tamaño = 40\n",
    "\n",
    "if velocidad_asteriode > limite and tamaño == limite:\n",
    "        print (\"Advertencia\")\n",
    "elif velocidad_asteriode >= limite:\n",
    "        print (\"Advertencia\")\n",
    "elif velocidad_asteriode < limite2:\n",
    "        print (\"Advertencia\")\n",
    "else:\n",
    "        print (\"sin preocupacion\")"
   ]
  }
 ],
 "metadata": {
  "interpreter": {
   "hash": "31aee8fad9768ca830056522928fdc9ccb8959e970bcb4d92e88137aedc529fd"
  },
  "kernelspec": {
   "display_name": "Python 3.10.2 64-bit",
   "language": "python",
   "name": "python3"
  },
  "language_info": {
   "codemirror_mode": {
    "name": "ipython",
    "version": 3
   },
   "file_extension": ".py",
   "mimetype": "text/x-python",
   "name": "python",
   "nbconvert_exporter": "python",
   "pygments_lexer": "ipython3",
   "version": "3.10.2"
  },
  "orig_nbformat": 4
 },
 "nbformat": 4,
 "nbformat_minor": 2
}
